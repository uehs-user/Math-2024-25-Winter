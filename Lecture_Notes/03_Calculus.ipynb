1. Basic Operations on Matrices ---------------------------------------------------------------------------------------------------------------------------------------------

a) #A + B
import sympy as sp

A = sp.Matrix([[1,2],[3,4]])
B = sp.Matrix([[5,6],[7,8]])
C = A + B
C
Answer: C = sp.Matrix([[6,8],[10,12]])

b) #B-A
import sympy as sp

A = sp.Matrix([[1,2],[3,4]])
B = sp.Matrix([[5,6],[7,8]])
C = B - A
C
Answer: C = sp.Matrix([[4,4],[4,4]])

c) #A + C
import sympy as sp

A = sp.Matrix([[1,2],[3,4]])
C = sp.Matrix([[-1,2],[3,0]])
B = A + C
B
Answer: B = sp.Matrix([[0,4],[6,4]])

d) #D + E
import sympy as sp

D = sp.Matrix([[-1,2,3],[4,0,6]])
E = sp.Matrix([[1,2],[4,5],[7,8]])
d = D.transpose()
F = d + E
F
Answer: F = sp.Matrix([[0,6],[6,5],[10,14]])
